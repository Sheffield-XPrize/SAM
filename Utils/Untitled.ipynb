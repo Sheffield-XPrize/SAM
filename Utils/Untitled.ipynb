{
 "cells": [
  {
   "cell_type": "code",
   "execution_count": 1,
   "metadata": {
    "collapsed": false
   },
   "outputs": [],
   "source": [
    "class sammy:\n",
    "    def __init__(self):\n",
    "        self.gorg = True\n",
    "        \n",
    "    def test(self, testData):\n",
    "        return [testData[1],testData[2]]"
   ]
  },
  {
   "cell_type": "code",
   "execution_count": 2,
   "metadata": {
    "collapsed": false
   },
   "outputs": [
    {
     "name": "stdout",
     "output_type": "stream",
     "text": [
      "Waiting for connection file: ~/.ipython/profile_default/security/ipcontroller-client.json\n"
     ]
    },
    {
     "ename": "IOError",
     "evalue": "Connection file '~/.ipython/profile_default/security/ipcontroller-client.json' not found.\nYou have attempted to connect to an IPython Cluster but no Controller could be found.\nPlease double-check your configuration and ensure that a cluster is running.",
     "output_type": "error",
     "traceback": [
      "\u001b[1;31m---------------------------------------------------------------------------\u001b[0m",
      "\u001b[1;31mIOError\u001b[0m                                   Traceback (most recent call last)",
      "\u001b[1;32m<ipython-input-2-07b3e2486a60>\u001b[0m in \u001b[0;36m<module>\u001b[1;34m()\u001b[0m\n\u001b[0;32m      1\u001b[0m \u001b[1;32mimport\u001b[0m \u001b[0mipyparallel\u001b[0m \u001b[1;32mas\u001b[0m \u001b[0mipp\u001b[0m\u001b[1;33m\u001b[0m\u001b[0m\n\u001b[0;32m      2\u001b[0m \u001b[1;33m\u001b[0m\u001b[0m\n\u001b[1;32m----> 3\u001b[1;33m \u001b[0mc\u001b[0m \u001b[1;33m=\u001b[0m \u001b[0mipp\u001b[0m\u001b[1;33m.\u001b[0m\u001b[0mClient\u001b[0m\u001b[1;33m(\u001b[0m\u001b[1;33m)\u001b[0m\u001b[1;33m\u001b[0m\u001b[0m\n\u001b[0m\u001b[0;32m      4\u001b[0m \u001b[0mdview\u001b[0m \u001b[1;33m=\u001b[0m \u001b[0mc\u001b[0m\u001b[1;33m[\u001b[0m\u001b[1;33m:\u001b[0m\u001b[1;33m]\u001b[0m\u001b[1;33m\u001b[0m\u001b[0m\n\u001b[0;32m      5\u001b[0m \u001b[1;33m\u001b[0m\u001b[0m\n",
      "\u001b[1;32m/home/daniel/anaconda2/lib/python2.7/site-packages/ipyparallel/client/client.pyc\u001b[0m in \u001b[0;36m__init__\u001b[1;34m(self, url_file, profile, profile_dir, ipython_dir, context, debug, sshserver, sshkey, password, paramiko, timeout, cluster_id, **extra_args)\u001b[0m\n\u001b[0;32m    389\u001b[0m                         \u001b[0mno_file_msg\u001b[0m\u001b[1;33m,\u001b[0m\u001b[1;33m\u001b[0m\u001b[0m\n\u001b[0;32m    390\u001b[0m                     ])\n\u001b[1;32m--> 391\u001b[1;33m                     \u001b[1;32mraise\u001b[0m \u001b[0mIOError\u001b[0m\u001b[1;33m(\u001b[0m\u001b[0mmsg\u001b[0m\u001b[1;33m)\u001b[0m\u001b[1;33m\u001b[0m\u001b[0m\n\u001b[0m\u001b[0;32m    392\u001b[0m         \u001b[1;32mif\u001b[0m \u001b[0murl_file\u001b[0m \u001b[1;32mis\u001b[0m \u001b[0mNone\u001b[0m\u001b[1;33m:\u001b[0m\u001b[1;33m\u001b[0m\u001b[0m\n\u001b[0;32m    393\u001b[0m             \u001b[1;32mraise\u001b[0m \u001b[0mIOError\u001b[0m\u001b[1;33m(\u001b[0m\u001b[0mno_file_msg\u001b[0m\u001b[1;33m)\u001b[0m\u001b[1;33m\u001b[0m\u001b[0m\n",
      "\u001b[1;31mIOError\u001b[0m: Connection file '~/.ipython/profile_default/security/ipcontroller-client.json' not found.\nYou have attempted to connect to an IPython Cluster but no Controller could be found.\nPlease double-check your configuration and ensure that a cluster is running."
     ]
    }
   ],
   "source": [
    "import ipyparallel as ipp\n",
    "\n",
    "c = ipp.Client()\n",
    "dview = c[:]\n",
    "\n",
    "g = []\n",
    "g.append([1,2,3,4,5])\n",
    "g.append([2,3,4,5,6])\n",
    "g.append([3,4,5,6,7])\n",
    "g.append([4,5,6,7,8])\n",
    "\n",
    "sam = sammy()\n",
    "print sam.test(g[0])\n",
    "\n",
    "serial_result = map(sam.test, g)\n",
    "print serial_result\n",
    "\n",
    "# currTestData = Yall[0][None,:]\n",
    "# staticPoseModel.testing(currTestData)\n",
    "# parallel_result = dview.map_sync(lambda currTestData: staticPoseModel.testing, currTestData)\n"
   ]
  },
  {
   "cell_type": "code",
   "execution_count": null,
   "metadata": {
    "collapsed": false
   },
   "outputs": [],
   "source": [
    "with dview.sync_imports():\n",
    "    import pandas\n",
    "# dview.push(dict(sam=sam))\n",
    "# parallel_result = dview.map_sync(sam.test, g)\n",
    "# print parallel_result\n",
    "\n",
    "a = pandas.TimeSeries([1,2,3],index=[1,2,3])"
   ]
  },
  {
   "cell_type": "code",
   "execution_count": null,
   "metadata": {
    "collapsed": false
   },
   "outputs": [],
   "source": [
    "sam.__class__"
   ]
  },
  {
   "cell_type": "code",
   "execution_count": null,
   "metadata": {
    "collapsed": false
   },
   "outputs": [],
   "source": [
    "dview.push({'b':a})"
   ]
  },
  {
   "cell_type": "code",
   "execution_count": null,
   "metadata": {
    "collapsed": false
   },
   "outputs": [],
   "source": [
    "ret = dview.apply_async(lambda x: b.__class__, range(0,1))"
   ]
  },
  {
   "cell_type": "code",
   "execution_count": null,
   "metadata": {
    "collapsed": true
   },
   "outputs": [],
   "source": [
    "currTest1 = Yall[0][None,:]\n",
    "currTest2 = Yall[0][None,:]\n",
    "runInParallel(staticPoseModel.testing(currTest1, True), staticPoseModel.testing(currTest2, True))\n",
    "runInParallel(staticPoseModel.testing(currTest1, True), staticPoseModel.testing(currTest2, True))"
   ]
  },
  {
   "cell_type": "code",
   "execution_count": null,
   "metadata": {
    "collapsed": true
   },
   "outputs": [],
   "source": [
    "from multiprocessing import Process\n",
    "\n",
    "def runInParallel(*fns):\n",
    "  proc = []\n",
    "  for fn in fns:\n",
    "    p = Process(target=fn)\n",
    "    p.start()\n",
    "    proc.append(p)\n",
    "  for p in proc:\n",
    "    p.join()"
   ]
  },
  {
   "cell_type": "code",
   "execution_count": null,
   "metadata": {
    "collapsed": true
   },
   "outputs": [],
   "source": [
    "c = ipp.Client()\n",
    "dview = c[:]\n",
    "\n",
    "currTestData = Yall[0][None,:]\n",
    "\n",
    "def screwX(x):\n",
    "    return x*2\n",
    "\n",
    "def compute_func(data):\n",
    "    return staticPoseModel.testing(data, verbose = False)\n",
    "\n",
    "currTestData = Yall[0][None,:]\n",
    "print compute_func(currTestData)\n",
    "\n",
    "ff = screwX(3)\n",
    "print ff\n",
    "\n",
    "parallel_result = dview.map_sync(screwX, range(5))\n",
    "print parallel_result\n",
    "\n",
    "# dview.push(dict(staticPoseModel=staticPoseModel))\n",
    "dview['staticPoseModel'] = staticPoseModel\n",
    "currTestData = Yall[:2][None,:]\n",
    "paralel_result = dview.map_sync(compute_func, currTestData)\n",
    "\n",
    "parallel_result\n",
    "\n",
    "ss = []\n",
    "sstest = []\n",
    "print\n",
    "off1 = 15\n",
    "off2 = 8\n",
    "# allCount = Yall.shape[0]\n",
    "allCount = 30\n",
    "off3 = len(str(allCount))\n",
    "#compare with training data\n",
    "for i in range(allCount):\n",
    "    currTestData = Yall[i][None,:]\n",
    "    currLabel = staticPoseModel.textLabels[int(Lall[i])] \n",
    "\n",
    "    [lab, confidence] = staticPoseModel.testing(currTestData)\n",
    "\n",
    "    if(currLabel == lab):\n",
    "        result = True\n",
    "    else:\n",
    "        result = False\n",
    "    print str(i).rjust(off3) + '/' + str(allCount) + ' Truth: ' + currLabel.ljust(off1) + ' Model: ' + lab.ljust(off1) + ' with ' + str(confidence)[:6].ljust(off2) + ' confidence: ' + str(result)\n",
    "    ss.append(result)\n",
    "\n",
    "correctVal = sum(ss)\n",
    "percCorect = correctVal*100/allCount\n",
    "print str(percCorect) + \" percent correct for training data\"\n",
    "print '\\n\\n\\n'\n",
    "\n",
    "# allCount = YtestAll.shape[0]\n",
    "off3 = len(str(allCount))\n",
    "for i in range(allCount):\n",
    "    currTestData = YtestAll[i][None,:]\n",
    "    currLabel = staticPoseModel.textLabels[int(LtestAll[i])] \n",
    "\n",
    "    [lab, confidence] = staticPoseModel.testing(currTestData)\n",
    "\n",
    "    if(currLabel == lab):\n",
    "        result = True\n",
    "    else:\n",
    "        result = False\n",
    "    print str(i).rjust(off3) + '/' + str(allCount) + ' Truth: ' + currLabel.ljust(off1) + ' Model: ' + lab.ljust(off1) + ' with ' + str(confidence)[:6].ljust(off2) + ' confidence: ' + str(result)\n",
    "    sstest.append(result)\n",
    "\n",
    "correctVal = sum(sstest)\n",
    "percCorect = correctVal*100/allCount\n",
    "print str(percCorect) + \" percent correct for testing data\""
   ]
  }
 ],
 "metadata": {
  "kernelspec": {
   "display_name": "Python 2",
   "language": "python",
   "name": "python2"
  },
  "language_info": {
   "codemirror_mode": {
    "name": "ipython",
    "version": 2
   },
   "file_extension": ".py",
   "mimetype": "text/x-python",
   "name": "python",
   "nbconvert_exporter": "python",
   "pygments_lexer": "ipython2",
   "version": "2.7.11"
  }
 },
 "nbformat": 4,
 "nbformat_minor": 0
}
